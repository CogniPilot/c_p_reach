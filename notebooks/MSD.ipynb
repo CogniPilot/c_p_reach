{
 "cells": [
  {
   "cell_type": "code",
   "execution_count": 1,
   "metadata": {},
   "outputs": [],
   "source": [
    "import control\n",
    "import numpy as np\n",
    "import cvxpy as cp\n",
    "import scipy.optimize"
   ]
  },
  {
   "cell_type": "code",
   "execution_count": 2,
   "metadata": {},
   "outputs": [
    {
     "name": "stdout",
     "output_type": "stream",
     "text": [
      "A [[ 0.  1.]\n",
      " [-1. -1.]]\n",
      "L [[-0.01484038]\n",
      " [ 0.00488988]]\n",
      "K [[-0.41421356 -0.68179283]]\n"
     ]
    }
   ],
   "source": [
    "m = 1\n",
    "c = 1\n",
    "k = 1\n",
    "\n",
    "A = np.array([\n",
    "    [0, 1],\n",
    "    [-k/m, -c/m]\n",
    "])\n",
    "\n",
    "B = np.array([\n",
    "    [0],\n",
    "    [1/m]\n",
    "])\n",
    "\n",
    "C = np.array([\n",
    "    [1, 0]\n",
    "])\n",
    "\n",
    "D = np.array([\n",
    "    [0]\n",
    "])\n",
    "\n",
    "G = np.eye(2)\n",
    "\n",
    "w_std = 1e-3\n",
    "v_std = 1e-2\n",
    "\n",
    "w_bound = 1e-2\n",
    "v_bound = 1e-1\n",
    "\n",
    "QN = (w_std)**2*np.eye(2)  # process noise\n",
    "RN = (v_std)**2*np.eye(1)  # measurement noise\n",
    "Q = np.eye(2)\n",
    "R = np.eye(1)\n",
    "\n",
    "L, _, _ = control.lqe(A, G, C, QN, RN)\n",
    "K, _, _ = control.lqr(A, B, Q, R)\n",
    "\n",
    "L = -L # flip sign for convention  A + LC\n",
    "K = -K # flip sign for convention  A + BK\n",
    "\n",
    "\n",
    "# check estimator and controller are stable\n",
    "assert np.max(np.real(np.linalg.eig(A + L@C)[0])) < 0\n",
    "assert np.max(np.real(np.linalg.eig(A + B@K)[0])) < 0\n",
    "\n",
    "print('A', A)\n",
    "print('L', L)\n",
    "print('K', K)\n"
   ]
  },
  {
   "cell_type": "code",
   "execution_count": 3,
   "metadata": {},
   "outputs": [],
   "source": [
    "def slemma_prob(A, B, C, D, alpha0):\n",
    "\n",
    "    # objective function\n",
    "    def f(A, B, C, D, alpha):\n",
    "        assert np.max(np.real(np.linalg.eig(A)[0])) < 0\n",
    "        n = A.shape[0]\n",
    "        m = C.shape[0]\n",
    "        P = cp.Variable((n, n), 'P', PSD=True)\n",
    "        mu1 = cp.Variable((1, 1), 'mu1', pos=True)\n",
    "        mu2 = cp.Variable((1, 1), 'mu2', pos=True)\n",
    "        constraints = [\n",
    "            cp.bmat([\n",
    "                [A.T@P + P@A + alpha*P, P@B],\n",
    "                [B.T@P, -alpha*mu1*np.eye(n)]\n",
    "            ]) << 0,\n",
    "            cp.bmat([\n",
    "                [C.T@C - P, C.T@D],\n",
    "                [D.T@C, D.T@D - mu2*np.eye(m)]\n",
    "            ]) << 0\n",
    "        ]\n",
    "        prob = cp.Problem(objective=cp.Minimize(mu1 + mu2), constraints=constraints)\n",
    "        res = prob.solve(verbose=False)\n",
    "        if prob.status == 'infeasible' or prob.status == 'infeasible_inaccurate':\n",
    "            return np.inf\n",
    "        elif prob.status == 'optimal' or prob.status == 'optimal_inaccurate':\n",
    "            return np.sqrt(mu1.value + mu2.value)[0, 0]\n",
    "        else:\n",
    "            raise RuntimeError('unknown status', prob.status)\n",
    "\n",
    "    # line search over alpha\n",
    "    return scipy.optimize.minimize(\n",
    "        fun=lambda x: f(A=A, B=B, C=C, D=D, alpha=x),\n",
    "        x0=alpha0,\n",
    "        method='Nelder-Mead')"
   ]
  },
  {
   "cell_type": "code",
   "execution_count": 4,
   "metadata": {},
   "outputs": [
    {
     "data": {
      "text/plain": [
       "0.01156252259588748"
      ]
     },
     "execution_count": 4,
     "metadata": {},
     "output_type": "execute_result"
    }
   ],
   "source": [
    "# bound on: Lv + w\n",
    "c_e = np.linalg.svd(L).S[0]*v_bound + w_bound  # worst case, they are aligned\n",
    "c_e"
   ]
  },
  {
   "cell_type": "code",
   "execution_count": 5,
   "metadata": {},
   "outputs": [
    {
     "data": {
      "text/plain": [
       "       message: Optimization terminated successfully.\n",
       "       success: True\n",
       "        status: 0\n",
       "           fun: 2.7280774298205404\n",
       "             x: [ 4.930e-01]\n",
       "           nit: 15\n",
       "          nfev: 30\n",
       " final_simplex: (array([[ 4.930e-01],\n",
       "                       [ 4.931e-01]]), array([ 2.728e+00,  2.728e+00]))"
      ]
     },
     "execution_count": 5,
     "metadata": {},
     "output_type": "execute_result"
    }
   ],
   "source": [
    "# C is identity here since the estimator state is the output of interest\n",
    "res_est = slemma_prob(A=A+L@C, B=np.eye(2), C=np.eye(2), D=np.zeros((2, 2)), alpha0=1)\n",
    "res_est\n"
   ]
  },
  {
   "cell_type": "code",
   "execution_count": 6,
   "metadata": {},
   "outputs": [
    {
     "data": {
      "text/plain": [
       "0.03154345692563064"
      ]
     },
     "execution_count": 6,
     "metadata": {},
     "output_type": "execute_result"
    }
   ],
   "source": [
    "# estimator error bound\n",
    "e_bound = c_e*res_est.fun\n",
    "e_bound"
   ]
  },
  {
   "cell_type": "code",
   "execution_count": 7,
   "metadata": {},
   "outputs": [
    {
     "data": {
      "text/plain": [
       "0.03516397616031789"
      ]
     },
     "execution_count": 7,
     "metadata": {},
     "output_type": "execute_result"
    }
   ],
   "source": [
    "# bound on: BKe + w\n",
    "c_bound = np.linalg.svd(B*K).S[0]*e_bound + w_bound\n",
    "c_bound"
   ]
  },
  {
   "cell_type": "code",
   "execution_count": 8,
   "metadata": {},
   "outputs": [
    {
     "data": {
      "text/plain": [
       "       message: Optimization terminated successfully.\n",
       "       success: True\n",
       "        status: 0\n",
       "           fun: 1.66728661500243\n",
       "             x: [ 8.442e-01]\n",
       "           nit: 13\n",
       "          nfev: 26\n",
       " final_simplex: (array([[ 8.442e-01],\n",
       "                       [ 8.441e-01]]), array([ 1.667e+00,  1.667e+00]))"
      ]
     },
     "execution_count": 8,
     "metadata": {},
     "output_type": "execute_result"
    }
   ],
   "source": [
    "# want c matrix for x state, so we can find x bounds on MSD\n",
    "res_ctrl = slemma_prob(A=A+B@K, B=np.eye(2), C=np.array([[1, 0]]), D=np.zeros((1, 1)), alpha0=1)\n",
    "res_ctrl\n"
   ]
  },
  {
   "cell_type": "code",
   "execution_count": 9,
   "metadata": {},
   "outputs": [
    {
     "data": {
      "text/plain": [
       "0.05862842678236256"
      ]
     },
     "execution_count": 9,
     "metadata": {},
     "output_type": "execute_result"
    }
   ],
   "source": [
    "x_bound = res_ctrl.fun*c_bound\n",
    "x_bound"
   ]
  },
  {
   "cell_type": "markdown",
   "metadata": {},
   "source": [
    "So the MSD will be within 24 cm of reference trajectory for all time"
   ]
  }
 ],
 "metadata": {
  "kernelspec": {
   "display_name": "c-p-reach-TU3A8nRa-py3.12",
   "language": "python",
   "name": "python3"
  },
  "language_info": {
   "codemirror_mode": {
    "name": "ipython",
    "version": 3
   },
   "file_extension": ".py",
   "mimetype": "text/x-python",
   "name": "python",
   "nbconvert_exporter": "python",
   "pygments_lexer": "ipython3",
   "version": "3.12.3"
  }
 },
 "nbformat": 4,
 "nbformat_minor": 2
}
