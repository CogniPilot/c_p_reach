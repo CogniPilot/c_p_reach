{
 "cells": [
  {
   "cell_type": "code",
   "execution_count": 1,
   "metadata": {},
   "outputs": [],
   "source": [
    "import casadi as ca\n",
    "import control\n",
    "import numpy as np\n",
    "import cvxpy as cp"
   ]
  },
  {
   "cell_type": "code",
   "execution_count": 2,
   "metadata": {},
   "outputs": [],
   "source": [
    "m = 1\n",
    "c = 1\n",
    "k = 1\n",
    "\n",
    "A = np.array([\n",
    "    [0, 1],\n",
    "    [-k/m, -c/m]\n",
    "])\n",
    "\n",
    "B = np.array([\n",
    "    [0],\n",
    "    [1/m]\n",
    "])\n",
    "\n",
    "G = np.eye(2)\n",
    "QN = (1e-1)**2*np.eye(2)  # process noise\n",
    "RN = (1e-2)**2*np.eye(1)  # measurement noise\n",
    "Q = np.eye(2)\n",
    "R = np.eye(1)\n",
    "\n",
    "C = np.array([[1, 0]])\n",
    "\n",
    "L, _, _ = control.lqe(A, G, C, QN, RN)\n",
    "K, _, _ = control.lqr(A, B, Q, R)\n",
    "\n",
    "c_w = 1  # bound on processs noise \n",
    "c_v = 1  # bound on measurement noise"
   ]
  },
  {
   "cell_type": "code",
   "execution_count": 3,
   "metadata": {},
   "outputs": [
    {
     "name": "stdout",
     "output_type": "stream",
     "text": [
      "A [[ 0.  1.]\n",
      " [-1. -1.]]\n",
      "L [[10.28516255]\n",
      " [ 2.89228433]]\n",
      "K [[0.41421356 0.68179283]]\n"
     ]
    }
   ],
   "source": [
    "print('A', A)\n",
    "print('L', L)\n",
    "print('K', K)"
   ]
  },
  {
   "cell_type": "markdown",
   "metadata": {},
   "source": [
    "What is largest possible magnitude of Lv + w"
   ]
  },
  {
   "cell_type": "code",
   "execution_count": 4,
   "metadata": {},
   "outputs": [
    {
     "data": {
      "text/plain": [
       "11.684094594472151"
      ]
     },
     "execution_count": 4,
     "metadata": {},
     "output_type": "execute_result"
    }
   ],
   "source": [
    "## upper bound on estimator disturbance\n",
    "c_e = np.linalg.svd(L).S[0]*c_v + c_w\n",
    "c_e"
   ]
  },
  {
   "cell_type": "code",
   "execution_count": 5,
   "metadata": {},
   "outputs": [],
   "source": [
    "def slemma_prob(A, B, alpha=0, lam_guess=1, delta_lam=0.1, delta_tol=0.001):\n",
    "    n = A.shape[0]\n",
    "    lam = lam_guess\n",
    "    count = 0\n",
    "    while True:\n",
    "        n = 2\n",
    "        P = cp.Variable((n, n), 'P', symmetric=True)\n",
    "        mu = cp.Variable((1, 1), 'mu')\n",
    "        constraints = [\n",
    "            P >> np.eye(n),  # P > 0, P > I same due to homogeneity property\n",
    "            mu >> 0,\n",
    "        ]\n",
    "        alpha = 0\n",
    "        constraints += [\n",
    "            cp.bmat([\n",
    "                [A.T*P + P*A + lam*P + alpha*P, P*B],\n",
    "                [B.T*P, -lam*mu*np.eye(2)]\n",
    "            ]) << 0\n",
    "        ]\n",
    "\n",
    "        dir_search = 1\n",
    "\n",
    "        prob = cp.Problem(objective=cp.Minimize(mu), constraints=constraints)\n",
    "        res = prob.solve(solver='SCS', verbose=False, max_iters=100000)\n",
    "        #print(prob.status)\n",
    "        if prob.status == 'infeasible':\n",
    "            delta_lam /= 2\n",
    "            lam -= dir_search*delta_lam\n",
    "            if count == 0:\n",
    "                print('initial guess must be feasible')\n",
    "                break\n",
    "        elif prob.status == 'optimal' or  prob.status == 'optimal_inaccurate':\n",
    "            #print('ellipse size', np.sqrt(np.linalg.svd(P.value/mu.value).S))\n",
    "            if delta_lam < delta_tol:\n",
    "                break\n",
    "            else: \n",
    "                delta_lam *= 2\n",
    "                lam += dir_search*delta_lam\n",
    "        elif prob.status == 'infeasible_inaccurate':\n",
    "            delta_lam /= 2\n",
    "            lam -= dir_search*delta_lam\n",
    "        else:\n",
    "            print('unknown status', prob.status)\n",
    "            break\n",
    "        #print('lam', lam, 'delta_lam', delta_lam)\n",
    "        count += 1\n",
    "    output_scaling = np.sqrt(np.linalg.svd(P.value/mu.value).S)[0]\n",
    "    return output_scaling"
   ]
  },
  {
   "cell_type": "code",
   "execution_count": 6,
   "metadata": {},
   "outputs": [
    {
     "data": {
      "text/plain": [
       "5.8277607763271995"
      ]
     },
     "execution_count": 6,
     "metadata": {},
     "output_type": "execute_result"
    }
   ],
   "source": [
    "e_bibo_scaling = slemma_prob(A=A+L*C, B=np.eye(2), lam_guess=0.01)\n",
    "e_bound = e_bibo_scaling*c_e\n",
    "e_bound"
   ]
  },
  {
   "cell_type": "code",
   "execution_count": 7,
   "metadata": {},
   "outputs": [
    {
     "data": {
      "text/plain": [
       "5.649130042699066"
      ]
     },
     "execution_count": 7,
     "metadata": {},
     "output_type": "execute_result"
    }
   ],
   "source": [
    "## upper bound on control disturbance\n",
    "c_k = np.linalg.svd(B*K).S[0]*e_bound + c_w\n",
    "c_k"
   ]
  },
  {
   "cell_type": "code",
   "execution_count": 8,
   "metadata": {},
   "outputs": [
    {
     "data": {
      "text/plain": [
       "0.06861795557974419"
      ]
     },
     "execution_count": 8,
     "metadata": {},
     "output_type": "execute_result"
    }
   ],
   "source": [
    "x_bibo_scaling = slemma_prob(A=A+B*K, B=np.eye(2), lam_guess=0.01)\n",
    "x_bound = x_bibo_scaling*c_k\n",
    "x_bound"
   ]
  },
  {
   "cell_type": "markdown",
   "metadata": {},
   "source": [
    "$$ V_0 = \\mu || w||_2^2 $$"
   ]
  },
  {
   "cell_type": "markdown",
   "metadata": {},
   "source": [
    "$$ V(x) = x^T P x < \\mu || w||_2^2 $$"
   ]
  },
  {
   "cell_type": "markdown",
   "metadata": {},
   "source": [
    "$$ V(x) = x^T (P/ \\mu) x < || w||_2^2 $$"
   ]
  },
  {
   "cell_type": "markdown",
   "metadata": {},
   "source": [
    "$$ V(x) = x^T (P/ (\\mu ||w||_2^2)) x = 1$$\n",
    "bound of invariant set"
   ]
  },
  {
   "cell_type": "markdown",
   "metadata": {},
   "source": []
  }
 ],
 "metadata": {
  "kernelspec": {
   "display_name": "c-p-reach-TU3A8nRa-py3.12",
   "language": "python",
   "name": "python3"
  },
  "language_info": {
   "codemirror_mode": {
    "name": "ipython",
    "version": 3
   },
   "file_extension": ".py",
   "mimetype": "text/x-python",
   "name": "python",
   "nbconvert_exporter": "python",
   "pygments_lexer": "ipython3",
   "version": "3.12.3"
  }
 },
 "nbformat": 4,
 "nbformat_minor": 2
}
