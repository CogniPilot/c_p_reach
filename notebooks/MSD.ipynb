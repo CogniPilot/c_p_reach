{
 "cells": [
  {
   "cell_type": "code",
   "execution_count": 1,
   "metadata": {},
   "outputs": [],
   "source": [
    "import control\n",
    "import numpy as np\n",
    "import cvxpy as cp\n",
    "import scipy.optimize"
   ]
  },
  {
   "cell_type": "code",
   "execution_count": 2,
   "metadata": {},
   "outputs": [
    {
     "name": "stdout",
     "output_type": "stream",
     "text": [
      "A [[ 0.  1.]\n",
      " [-1. -1.]]\n",
      "L [[-10.28516255]\n",
      " [ -2.89228433]]\n",
      "K [[-0.41421356 -0.68179283]]\n"
     ]
    }
   ],
   "source": [
    "m = 1\n",
    "c = 1\n",
    "k = 1\n",
    "\n",
    "A = np.array([\n",
    "    [0, 1],\n",
    "    [-k/m, -c/m]\n",
    "])\n",
    "\n",
    "B = np.array([\n",
    "    [0],\n",
    "    [1/m]\n",
    "])\n",
    "\n",
    "C = np.array([\n",
    "    [1, 0]\n",
    "])\n",
    "\n",
    "D = np.array([\n",
    "    [0]\n",
    "])\n",
    "\n",
    "G = np.eye(2)\n",
    "QN = (1e-1)**2*np.eye(2)  # process noise\n",
    "RN = (1e-2)**2*np.eye(1)  # measurement noise\n",
    "Q = np.eye(2)\n",
    "R = np.eye(1)\n",
    "\n",
    "C = np.array([[1, 0]])\n",
    "\n",
    "L, _, _ = control.lqe(A, G, C, QN, RN)\n",
    "K, _, _ = control.lqr(A, B, Q, R)\n",
    "\n",
    "L = -L # flip sign for convention  A + LC\n",
    "K = -K # flip sign for convention  A + BK\n",
    "\n",
    "c_w = 1  # bound on processs noise \n",
    "c_v = 1  # bound on measurement noise\n",
    "\n",
    "# check estimator and controller are stable\n",
    "assert np.max(np.real(np.linalg.eig(A + L@C)[0])) < 0\n",
    "assert np.max(np.real(np.linalg.eig(A + B@K)[0])) < 0\n",
    "\n",
    "print('A', A)\n",
    "print('L', L)\n",
    "print('K', K)\n"
   ]
  },
  {
   "cell_type": "code",
   "execution_count": 3,
   "metadata": {},
   "outputs": [],
   "source": [
    "def slemma_prob(A, B, C, D, alpha0):\n",
    "\n",
    "    # objective function\n",
    "    def f(A, B, C, D, alpha):\n",
    "        assert np.max(np.real(np.linalg.eig(A)[0])) < 0\n",
    "        n = A.shape[0]\n",
    "        m = C.shape[0]\n",
    "        P = cp.Variable((n, n), 'P', PSD=True)\n",
    "        mu1 = cp.Variable((1, 1), 'mu1', pos=True)\n",
    "        mu2 = cp.Variable((1, 1), 'mu2', pos=True)\n",
    "        constraints = [\n",
    "            cp.bmat([\n",
    "                [A.T@P + P@A + alpha*P, P@B],\n",
    "                [B.T@P, -alpha*mu1*np.eye(n)]\n",
    "            ]) << 0,\n",
    "            cp.bmat([\n",
    "                [C.T@C - P, C.T@D],\n",
    "                [D.T@C, D.T@D - mu2*np.eye(m)]\n",
    "            ]) << 0\n",
    "        ]\n",
    "        prob = cp.Problem(objective=cp.Minimize(mu1 + mu2), constraints=constraints)\n",
    "        res = prob.solve(verbose=False)\n",
    "        if prob.status == 'infeasible' or prob.status == 'infeasible_inaccurate':\n",
    "            return np.inf\n",
    "        elif prob.status == 'optimal' or prob.status == 'optimal_inaccurate':\n",
    "            return np.sqrt(mu1.value + mu2.value)[0, 0]\n",
    "        else:\n",
    "            raise RuntimeError('unknown status', prob.status)\n",
    "\n",
    "    # line search over alpha\n",
    "    return scipy.optimize.minimize(\n",
    "        fun=lambda x: f(A=A+L*C, B=np.eye(2), C=np.array([[1, 0]]), D=np.zeros((1, 2)), alpha=x),\n",
    "        x0=alpha0,\n",
    "        method='Nelder-Mead')"
   ]
  },
  {
   "cell_type": "code",
   "execution_count": 4,
   "metadata": {},
   "outputs": [
    {
     "data": {
      "text/plain": [
       "11.684094594472151"
      ]
     },
     "execution_count": 4,
     "metadata": {},
     "output_type": "execute_result"
    }
   ],
   "source": [
    "# bound on: Lv + w)\n",
    "c_e = np.linalg.svd(L).S[0]*c_v + c_w\n",
    "c_e"
   ]
  },
  {
   "cell_type": "code",
   "execution_count": 5,
   "metadata": {},
   "outputs": [
    {
     "data": {
      "text/plain": [
       "       message: Optimization terminated successfully.\n",
       "       success: True\n",
       "        status: 0\n",
       "           fun: 0.06712149494895603\n",
       "             x: [ 7.204e+00]\n",
       "           nit: 23\n",
       "          nfev: 48\n",
       " final_simplex: (array([[ 7.204e+00],\n",
       "                       [ 7.204e+00]]), array([ 6.712e-02,  6.721e-02]))"
      ]
     },
     "execution_count": 5,
     "metadata": {},
     "output_type": "execute_result"
    }
   ],
   "source": [
    "# C is identity here since the estimator state is the output of interest\n",
    "res_est = slemma_prob(A=A+L@C, B=np.eye(2), C=np.eye(2), D=np.zeros((2, 2)), alpha0=1)\n",
    "res_est\n"
   ]
  },
  {
   "cell_type": "code",
   "execution_count": 6,
   "metadata": {},
   "outputs": [
    {
     "data": {
      "text/plain": [
       "0.784253896305987"
      ]
     },
     "execution_count": 6,
     "metadata": {},
     "output_type": "execute_result"
    }
   ],
   "source": [
    "# estimator error bound\n",
    "e_bound = c_e*res_est.fun\n",
    "e_bound"
   ]
  },
  {
   "cell_type": "code",
   "execution_count": 7,
   "metadata": {},
   "outputs": [
    {
     "data": {
      "text/plain": [
       "1.6256431055356093"
      ]
     },
     "execution_count": 7,
     "metadata": {},
     "output_type": "execute_result"
    }
   ],
   "source": [
    "# bound on: BKe + w\n",
    "c_k = np.linalg.svd(B*K).S[0]*e_bound + c_w\n",
    "c_k"
   ]
  },
  {
   "cell_type": "code",
   "execution_count": 8,
   "metadata": {},
   "outputs": [
    {
     "data": {
      "text/plain": [
       "       message: Optimization terminated successfully.\n",
       "       success: True\n",
       "        status: 0\n",
       "           fun: 0.14590761834438382\n",
       "             x: [ 3.348e+00]\n",
       "           nit: 20\n",
       "          nfev: 41\n",
       " final_simplex: (array([[ 3.348e+00],\n",
       "                       [ 3.349e+00]]), array([ 1.459e-01,  1.459e-01]))"
      ]
     },
     "execution_count": 8,
     "metadata": {},
     "output_type": "execute_result"
    }
   ],
   "source": [
    "# want c matrix for x state, so we can find x bounds on MSD\n",
    "res_ctrl = slemma_prob(A=A+B@K, B=np.eye(2), C=np.array([[1, 0]]), D=np.zeros((2, 1)), alpha0=1)\n",
    "res_ctrl\n"
   ]
  },
  {
   "cell_type": "code",
   "execution_count": 9,
   "metadata": {},
   "outputs": [
    {
     "data": {
      "text/plain": [
       "0.23719371380666854"
      ]
     },
     "execution_count": 9,
     "metadata": {},
     "output_type": "execute_result"
    }
   ],
   "source": [
    "x_bound = res_ctrl.fun*c_k\n",
    "x_bound"
   ]
  },
  {
   "cell_type": "markdown",
   "metadata": {},
   "source": [
    "So the MSD will be within 24 cm of reference trajectory for all time"
   ]
  }
 ],
 "metadata": {
  "kernelspec": {
   "display_name": "c-p-reach-TU3A8nRa-py3.12",
   "language": "python",
   "name": "python3"
  },
  "language_info": {
   "codemirror_mode": {
    "name": "ipython",
    "version": 3
   },
   "file_extension": ".py",
   "mimetype": "text/x-python",
   "name": "python",
   "nbconvert_exporter": "python",
   "pygments_lexer": "ipython3",
   "version": "3.12.3"
  }
 },
 "nbformat": 4,
 "nbformat_minor": 2
}
